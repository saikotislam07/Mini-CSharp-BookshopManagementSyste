{
 "cells": [
  {
   "cell_type": "markdown",
   "id": "53e568e9",
   "metadata": {},
   "source": [
    "# Notebook 01 — Paper Facts Extraction"
   ]
  },
  {
   "cell_type": "markdown",
   "id": "55a10da7",
   "metadata": {},
   "source": [
    "This notebook summarizes key facts extracted from the paper with references to sections/tables/figures."
   ]
  },
  {
   "cell_type": "code",
   "execution_count": null,
   "id": "33a0c63f",
   "metadata": {},
   "outputs": [],
   "source": [
    "import pandas as pd\n",
    "facts = pd.read_csv('../facts-extract.csv')\n",
    "facts.head()"
   ]
  }
 ],
 "metadata": {},
 "nbformat": 4,
 "nbformat_minor": 5
}
