{
 "cells": [
  {
   "cell_type": "markdown",
   "id": "d713f6a2",
   "metadata": {},
   "source": [
    "# Notebook 03 — Training & Evaluation"
   ]
  },
  {
   "cell_type": "markdown",
   "id": "d775af51",
   "metadata": {},
   "source": [
    "Replicate stacked ensembles and AMSVM approximation; 10-fold CV evaluation."
   ]
  },
  {
   "cell_type": "code",
   "execution_count": null,
   "id": "806ed7a8",
   "metadata": {},
   "outputs": [],
   "source": [
    "from src.models.stacking import build_stacking_class_weight, build_stacking_adasyn\n",
    "from src.models.amsvm import build_amsvm_approx\n"
   ]
  }
 ],
 "metadata": {},
 "nbformat": 4,
 "nbformat_minor": 5
}
